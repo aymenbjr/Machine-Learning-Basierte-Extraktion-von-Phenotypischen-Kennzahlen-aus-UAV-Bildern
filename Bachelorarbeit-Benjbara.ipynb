{
 "cells": [
  {
   "cell_type": "markdown",
   "id": "bea6b478",
   "metadata": {},
   "source": [
    "<h1><center>Machine Learning-basierte Extraktion von phänotypischen Kennzahlen aus UAV-Bildern</center></h1>\n"
   ]
  },
  {
   "cell_type": "markdown",
   "id": "eabe05de",
   "metadata": {},
   "source": [
    "<h3><center> Bachelorarbeit von Aymen Benjbara - Matrikel-Nr: 3284477 </center></h3>\n"
   ]
  },
  {
   "cell_type": "markdown",
   "id": "d2732111",
   "metadata": {},
   "source": [
    "### **Projektübersicht**\n",
    "\n",
    "Dieses Notebook dient als zentrale Schnittstelle für die Nutzung und Bewertung des Projekts. Es ermöglicht eine einfache Handhabung der Funktionen, die in einem externen Skript definiert sind, und bietet eine benutzerfreundliche Umgebung zur Durchführung von Analysen und zur Evaluierung der Ergebnisse.\n",
    "\n",
    "#### **Struktur**\n",
    "\n",
    "Die Projektstruktur ist so konzipiert, dass sie eine klare Trennung zwischen der Implementierungslogik und ihrer Anwendung bietet:\n",
    "\n",
    "- **Extern Skript:** Das Skript 'Bachelorarbeit.py' enthält fast alle Funktionen und Algorithmen, die für das Projekt entwickelt wurden.\n",
    "- **Jupyter Notebook:** Dient als interaktive Plattform, auf der die Funktionen aus dem Skript aufgerufen und die Ergebnisse visualisiert werden.\n",
    "\n",
    "#### **Vorteile**\n",
    "\n",
    "Diese Struktur bietet mehrere Vorteile:\n",
    "\n",
    "- **Übersichtlichkeit:** Das Notebook bleibt fokussiert auf den Ablauf und die Darstellung der Ergebnisse.\n",
    "- **Wiederverwendbarkeit:** Funktionen können leicht in anderen Projekten wiederverwendet werden.\n",
    "- **Wartbarkeit:** Änderungen an Funktionen werden zentral in der Skriptdatei vorgenommen.\n",
    "\n",
    "#### **Nutzung**\n",
    "\n",
    "Das Notebook ist so aufgebaut, dass es den Benutzern ermöglicht, mit minimalen Anpassungen verschiedene Aspekte des Projekts zu untersuchen:\n",
    "\n",
    "1. **Importieren von Bibliotheken und Skripten:** Zu Beginn werden alle notwendigen Bibliotheken und externen Skripte importiert.\n",
    "3. **EDA, Modelltraining, und -validierung:** Das EDA-Prozess, als auch das Training und die Validierung der Modelle sind im Detail im Notebook  jeden extrahierten Merkmals zu finden. Das Konzept besteht darin, dass die Modelle zur Merkmalsextraktion in separaten Notebooks entwickelt werden, in dem die Datenorganisation und die Trainingsprozesse im Detail erläutert werden. Die Struktur der Arbeit ist wie folgt:  \n",
    "\n",
    "\n",
    "<table align=\"center\">\n",
    "    <tr>\n",
    "        <th>Notebook</th>\n",
    "        <th>Kennzahlen</th>\n",
    "    </tr>\n",
    "    <tr>\n",
    "        <td>size_estimator.ipynb</td>\n",
    "        <td>Größe der Pflanze</td>\n",
    "    </tr>\n",
    "    <tr>\n",
    "        <td>leaves_counter.ipynb</td>\n",
    "        <td>Anzahl der Blättern, Dichte</td>\n",
    "    </tr>\n",
    "    <tr>\n",
    "        <td>height_estimator.ipynb</td>\n",
    "        <td>Höhe der Pflanze</td>\n",
    "    </tr>\n",
    "    <tr>\n",
    "        <td>head_detection.ipynb</td>\n",
    "        <td>Blumenkohlkopf Erkennung, Größe des Kopfes</td>\n",
    "    </tr>\n",
    "    <tr>\n",
    "        <td>harvest_classificator.ipynb</td>\n",
    "        <td>Erntestatus</td>\n",
    "    </tr>\n",
    "</table>\n",
    "\n",
    " Der Code für das Modelltraining bleibt vollständig ausführbar, um die Flexibilität bei der Untersuchung verschiedener Modelle zu gewährleisten.\n",
    "\n",
    "#### **Hinweise zur Ausführung**\n",
    "\n",
    "- Der GPU-Speicher kann manchmal aufgrund der Implementierung der Machine Learning-Modelle überlastet sein, was zum Absturz des Servers führt. In diesem Fall muss der Speicher manuell freigegeben werden, indem folgendes Befehl ausgeführt werden muss: '!nvidia-smi', dann den Prozess, der den meisten Speicher belegt, mit dem Befehl: '!kill PID' beenden. PID bezieht sich auf die Prozess-ID.\n"
   ]
  },
  {
   "cell_type": "markdown",
   "id": "43ae23bf",
   "metadata": {},
   "source": [
    "## Arbeit"
   ]
  },
  {
   "cell_type": "code",
   "execution_count": null,
   "id": "512f8fc8",
   "metadata": {},
   "outputs": [],
   "source": [
    "# Dieser Befehl führt das YOLOv5-Erkennungsskript direkt in einem Jupyter-Notebook aus.\n",
    "# Er muss als erste Zelle ausgeführt werden, um die YOLO-Umgebung im Notebook korrekt einzurichten.\n",
    "# Wenn irgendetwas anderes vor dieser Zeile ausgeführt wird, funktioniert der YOLO-Algorithmus möglicherweise nicht korrekt,\n",
    "# und es könnte notwendig sein, die Umgebung im Notebook zurückzusetzen. Der genaue Grund dafür ist unklar,\n",
    "# aber es ist wichtig, diesen Schritt zu befolgen, um sicherzustellen, dass YOLO wie erwartet funktioniert.\n",
    "# Die Ausführung dient nur zur Initialisierung der YOLO-Umgebung.\n",
    "%run yolov5/detect.py --weights yolov5/runs/train/exp38/weights/best.pt --img 256 --conf 0.7 --source yolov5/test_infer/2021_08_30_post_Def_day4_111.jpg --save-txt --save-conf"
   ]
  },
  {
   "cell_type": "markdown",
   "id": "45ea1ad6",
   "metadata": {},
   "source": [
    "Wenn die YOLO-Umgebung wieder integriert werden soll, müssen folgende Befehlszeilen ausgeführt und der Server neu gestartet werden"
   ]
  },
  {
   "cell_type": "code",
   "execution_count": null,
   "id": "3d78cf1a",
   "metadata": {},
   "outputs": [],
   "source": [
    "# cd yolov5\n",
    "# %pip install -r requirements.txt  # install dependencies"
   ]
  },
  {
   "cell_type": "markdown",
   "id": "786ff1c1",
   "metadata": {},
   "source": [
    "## Importieren des Hauptskripts"
   ]
  },
  {
   "cell_type": "code",
   "execution_count": null,
   "id": "faccf8dc",
   "metadata": {},
   "outputs": [],
   "source": [
    "# Importiert das Skript \"Bachelorarbeit\".\n",
    "# Dieses Skript enthält alle Funktionen, die aufgerufen werden, um die Aufgaben direkt über das Notebook auszuführen.\n",
    "# Dadurch wird der Code minimiert und eine benutzerfreundliche Oberfläche bereitgestellt, mit der die Funktionsweise des Projekts genutzt und getestet werden kann.\n",
    "import Bachelorarbeit"
   ]
  },
  {
   "cell_type": "markdown",
   "id": "4eaad1b4",
   "metadata": {},
   "source": [
    "## Bibliotheken"
   ]
  },
  {
   "cell_type": "code",
   "execution_count": null,
   "id": "c1203c64",
   "metadata": {},
   "outputs": [],
   "source": [
    "# Standardbibliotheken\n",
    "import os\n",
    "import glob as gb\n",
    "import random\n",
    "import re\n",
    "\n",
    "# Externe Bibliotheken\n",
    "import numpy as np\n",
    "import pandas as pd\n",
    "import cv2\n",
    "import seaborn as sns\n",
    "import matplotlib.pyplot as plt\n",
    "import matplotlib.cm as cm\n",
    "import matplotlib.image as mpimg\n",
    "import matplotlib.patches as patches\n",
    "import matplotlib.dates as mdates\n",
    "from PIL import Image, UnidentifiedImageError\n",
    "\n",
    "# DS und ML Bibliotheken\n",
    "from sklearn.model_selection import train_test_split\n",
    "from sklearn.linear_model import LinearRegression\n",
    "from sklearn.metrics import mean_squared_error\n",
    "from sklearn.preprocessing import MinMaxScaler\n",
    "\n",
    "# Bildverarbeitungsbibliotheken\n",
    "import skimage.feature\n",
    "# from skimage.feature.texture import greycomatrix, greycoprops\n",
    "\n",
    "# Visualisierungs- und Anzeigebibliotheken\n",
    "from IPython.display import Image, display\n",
    "from IPython.display import set_matplotlib_formats\n",
    "%matplotlib inline\n",
    "set_matplotlib_formats('svg')\n",
    "\n",
    "# Deep-Learning-Bibliotheken\n",
    "import torch\n",
    "import torchvision\n",
    "from torchvision.io import read_image\n",
    "from torchvision.ops.boxes import masks_to_boxes\n",
    "from torchvision.transforms.v2 import functional as F\n",
    "from torchvision.transforms import v2 as T\n",
    "from torchvision.models.detection.faster_rcnn import FastRCNNPredictor\n",
    "from torchvision.models.detection.mask_rcnn import MaskRCNNPredictor\n",
    "from torchvision.utils import draw_bounding_boxes, draw_segmentation_masks\n",
    "import utils\n",
    "\n",
    "# Keras \n",
    "from keras.applications.vgg16 import VGG16, preprocess_input\n",
    "from keras.models import load_model\n",
    "\n",
    "# Gerätekonfiguration für Deep Learning\n",
    "device = torch.device('cuda')\n"
   ]
  },
  {
   "cell_type": "markdown",
   "id": "acc9c1a6",
   "metadata": {},
   "source": [
    "## Arbeit"
   ]
  },
  {
   "cell_type": "code",
   "execution_count": null,
   "id": "596c2dcf",
   "metadata": {},
   "outputs": [],
   "source": [
    "# Diese Funktion Führt das YOLOv5-Detektionsskript aus, um zu überprüfen, ob auf dem Bild eine Pflanze mit Kopf vorhanden ist.\n",
    "# Sie wird im Notebook und nicht im Skript aufgerufen, da das Skript zur Ausführung des Yolo-Algorithmus nicht durch einen Aufruf vom Bachelorarbeit.py Skript implementiert werden kann."
   ]
  },
  {
   "cell_type": "code",
   "execution_count": null,
   "id": "8f0eb0cc",
   "metadata": {},
   "outputs": [],
   "source": [
    "def check_head(image_path):\n",
    "    # Es verwendet eine vortrainierte Gewichte, setzt die Bildgröße auf 256, die Vertrauensschwelle auf 0.7,\n",
    "    # gibt den Pfad des Bildes an, speichert die Ergebnisse in Textdateien und speichert die Vertrauenswerte.\n",
    "    %run  yolov5/detect.py --weights yolov5/runs/train/exp38/weights/best.pt --img 256 --conf 0.7 --source {image_path} --save-txt --save-conf\n",
    "    \n",
    "    # Ruft den Namen des neuesten Experimentordners innerhalb des YOLOv5-Detektionsverzeichnisses ab.\n",
    "    exp = Bachelorarbeit.get_highest_exp_file('yolov5/runs/detect/')\n",
    "    \n",
    "    # Erstellt den Pfad zum Label-Ordner des aktuellen Experiments.\n",
    "    label_folder_path = 'yolov5/runs/detect/'+exp+'/labels/'\n",
    "    \n",
    "    # Sucht nach allen Textdateien im Label-Ordner, die die Erkennungsergebnisse enthalten.\n",
    "    txt_files = gb.glob(os.path.join(label_folder_path, '*.txt'))\n",
    "    \n",
    "    # Überprüft, ob Textdateien vorhanden sind, was darauf hinweist, dass ein Kopf erkannt wurde.\n",
    "    IsHead = len(txt_files) > 0\n",
    "    \n",
    "    if IsHead:\n",
    "        print('Die Pflanze hat einen Kopf')\n",
    "    else:\n",
    "        print('Die Pflanze hat keinen Kopf')\n",
    "    \n",
    "    # Gibt zurück, ob ein Kopf erkannt wurde oder nicht.\n",
    "    return IsHead\n"
   ]
  },
  {
   "cell_type": "markdown",
   "id": "e37b9402",
   "metadata": {},
   "source": [
    "##  Kennzahlen Extraktion aus einzelnen Pflanzen"
   ]
  },
  {
   "cell_type": "code",
   "execution_count": null,
   "id": "1dc42549",
   "metadata": {},
   "outputs": [],
   "source": [
    "# Die Funktion single_plant_features_extraction ist aus dem Modul Bachelorarbeit aufgerufen. \n",
    "# Sie ist dafür zuständig, spezifische Merkmale einer Pflanze aus dem gegebenen Bildpfad zu extrahieren. \n",
    "# Der Parameter image_path gibt den Pfad zum Bild an, von dem die Merkmale extrahiert werden sollen.   \n",
    "# Der Parameter hasHead wird durch die Ausführung der Funktion check_head mit demselben Bildpfad als Argument bestimmt.  \n",
    "# Die Funktion kann nur im Notebook implementiert werden. Sie prüft, ob auf dem Bild ein Pflanzenkopf erkennbar ist, und gibt einen booleschen Wert zurück. "
   ]
  },
  {
   "cell_type": "code",
   "execution_count": null,
   "id": "cf655baf",
   "metadata": {},
   "outputs": [],
   "source": [
    "#image_path = 'YOUR IMAGE PATH HERE'\n",
    "image_path = '/home/ab/raid/GrowliFlowerD/Field2/2021_08_30/2021_08_30_Def_day3_204.jpg'\n",
    "single_plant_features = Bachelorarbeit.single_plant_features_extraction(image_path, hasHead = check_head(image_path))"
   ]
  },
  {
   "cell_type": "markdown",
   "id": "5e4f4a1a",
   "metadata": {},
   "source": [
    "### Visualisierung des Dataframes, der die extrahierten Kennzahlen enthält"
   ]
  },
  {
   "cell_type": "code",
   "execution_count": null,
   "id": "636ea4b6",
   "metadata": {},
   "outputs": [],
   "source": [
    "single_plant_features.head()"
   ]
  },
  {
   "cell_type": "markdown",
   "id": "52ed6169",
   "metadata": {},
   "source": [
    "### Funktion zum Ausgeben von Merkmalen einer einzelnen Pflanze"
   ]
  },
  {
   "cell_type": "code",
   "execution_count": null,
   "id": "e1be2372",
   "metadata": {},
   "outputs": [],
   "source": [
    "Bachelorarbeit.print_features(single_plant_features)"
   ]
  },
  {
   "cell_type": "markdown",
   "id": "2b4e5bb2",
   "metadata": {},
   "source": [
    "### Ermittelt das makroskopische Stadium einer Pflanze basierend auf ihren extrahierten Merkmalen."
   ]
  },
  {
   "cell_type": "code",
   "execution_count": null,
   "id": "0b58a75e",
   "metadata": {},
   "outputs": [],
   "source": [
    "Bachelorarbeit.get_macro_stage(single_plant_features)"
   ]
  },
  {
   "cell_type": "markdown",
   "id": "972fc2a8",
   "metadata": {},
   "source": [
    "##  Kennzahlen Extraktion aus einzelnen Pflanzen in Zeitreihen"
   ]
  },
  {
   "cell_type": "markdown",
   "id": "de975f29",
   "metadata": {},
   "source": [
    "##### Die Funtion single_plant_time_series ist dafür zuständig, Kennzahlen einer Pflanze durch mehreren Zeitpunkten zu extrahieren. Die Funktion ist im Notebook und nicht im Skript definiert, da sie die Funktion check_head während der Merkmalsextraktion mehrmals aufruft."
   ]
  },
  {
   "cell_type": "markdown",
   "id": "1e1c6724",
   "metadata": {},
   "source": [
    "<h4><span style=\"color: red;\">Wichtig</span>: Es ist notwendig, den Pfad für die Bilder entsprechend zu bearbeiten. In diesem Beispiel durchläuft die Funktion die Datumsordner und extrahiert Merkmale aus den Bildern, die mit \"_Def_day1_5.jpg\" enden.</h4>\n"
   ]
  },
  {
   "cell_type": "code",
   "execution_count": null,
   "id": "82fb240b",
   "metadata": {},
   "outputs": [],
   "source": [
    "def single_plant_time_series(directory_path):\n",
    "    # Initialisierung von Listen zur Speicherung der Kennzahlen.\n",
    "    isHarvested_list = []\n",
    "    predicted_size_list = []\n",
    "    predicted_height_list = []\n",
    "    hasHead_list = []\n",
    "    leaves_count_list = []\n",
    "    density_rate_list = []  \n",
    "    head_size_list = []\n",
    "    # Initialisierung von Zustandsvariablen.\n",
    "    isHarvested = False\n",
    "    wasHarvested = False\n",
    "    prev_density_rate = None\n",
    "    \n",
    "    # Sortieren und Durchlaufen der Datumsordner im angegebenen Verzeichnis.\n",
    "    dates = sorted(os.listdir(directory_path))\n",
    "    # Festlegen von Datumsangaben, die übersprungen werden sollen.\n",
    "    skip_dates = ['2020_10_29', '_post', '_pre']   \n",
    "    for date in dates:\n",
    "        # Überspringen bestimmter Datumsangaben basierend auf den definierten Kriterien.\n",
    "        if date in skip_dates or '_post' in date or '_pre' in date:\n",
    "            continue\n",
    "        # Erstellen des Bildpfades.\n",
    "        image_path = f'{directory_path}/{date}/{date}_Def_day1_7.jpg'  #  !!!!!!!!! Den Pfad entsprechend bearbeiten !!!!!!!!!\n",
    "        # Überprüfen, ob das Bild existiert.\n",
    "        if not os.path.exists(image_path):\n",
    "            print(f'No image for {date}')\n",
    "            continue\n",
    "        \n",
    "        # Speichern des Datums als Dateiname.\n",
    "        filename = date\n",
    "        \n",
    "        # Überprüfen, ob ein Kopf auf dem Bild erkennbar ist.\n",
    "        hasHead = check_head(image_path)\n",
    "        hasHead_list.append((filename, hasHead))\n",
    "        \n",
    "        # Wenn ein Kopf erkennbar ist, wird die Größe des Kopfes bestimmt. Andernfalls wird überprüft, ob die Pflanze geerntet wurde.\n",
    "        if hasHead:\n",
    "            head_size = Bachelorarbeit.head_size_function(image_path)\n",
    "        else:\n",
    "            head_size = 0\n",
    "            isHarvested = Bachelorarbeit.harvest_classif_model(image_path)\n",
    "            \n",
    "        head_size_list.append((filename, head_size))\n",
    "     \n",
    "        # Überprüfung, ob die Pflanze geerntet wurde, basierend auf vorherigen Kennzahlen und dem aktuellen Zustand.\n",
    "        if not isHarvested and not hasHead:\n",
    "            if prev_density_rate is not None and density < prev_density_rate / 2:\n",
    "                isHarvested = True\n",
    "\n",
    "        if wasHarvested: \n",
    "            isHarvested = True\n",
    "        \n",
    "        # Wenn festgestellt wird, dass die Pflanze geerntet wurde, werden keine weiteren Kennzahlen extrahiert und alle Listen mit Standardwerten gefüllt.\n",
    "        if isHarvested:\n",
    "            print('The plant is harvested, no features to extract')\n",
    "            isHarvested_val = 1\n",
    "            wasHarvested = True \n",
    "            \n",
    "            isHarvested_list.append((filename, isHarvested_val))\n",
    "            predicted_size_list.append((filename, 0))\n",
    "            leaves_count_list.append((filename, 0))\n",
    "            density_rate_list.append((filename, 0))\n",
    "            predicted_height_list.append((filename, 0))\n",
    "            hasHead_list.append((filename, False))\n",
    "            head_size_list.append((filename, 0))\n",
    "            continue\n",
    "        else:\n",
    "            isHarvested_val = 0\n",
    "            wasHarvested = False\n",
    "            \n",
    "            isHarvested_list.append((filename, isHarvested_val))\n",
    "       \n",
    "        isHarvested_list.append((filename, isHarvested_val))\n",
    "    \n",
    "        # Extraktion und Visualisierung der Bounding-Boxen.\n",
    "        Bachelorarbeit.get_bounding_boxes_plot(image_path)\n",
    "        \n",
    "        # Extraktion weiterer Kennzahlen wie Größe, Blattanzahl, Dichte und Höhe der Pflanze.\n",
    "        predicted_size = Bachelorarbeit.predict_size(image_path)\n",
    "        predicted_size_list.append((filename, predicted_size))\n",
    "  \n",
    "        output_image, num_boxes_leaves, leaves_number, density  = Bachelorarbeit.leaves_count(image_path)\n",
    "        leaves_count_list.append((filename, leaves_number))\n",
    "        \n",
    "        density_rate_list.append((filename, density))\n",
    "        prev_density_rate = density\n",
    "        \n",
    "        predicted_height = Bachelorarbeit.predict_height_value(image_path)\n",
    "        predicted_height_list.append((filename, predicted_height))\n",
    "\n",
    "    # Zusammenführung der gesammelten Kennzahlen in einem DataFrame und Rückgabe dieses DataFrames.\n",
    "    features_dataframe = Bachelorarbeit.features_dataframe(isHarvested_list, predicted_size_list, predicted_height_list, hasHead_list, leaves_count_list, density_rate_list, head_size_list)\n",
    "    return features_dataframe"
   ]
  },
  {
   "cell_type": "code",
   "execution_count": null,
   "id": "c5216769",
   "metadata": {},
   "outputs": [],
   "source": [
    "#directory_path = 'YOUR DIRECTORY PATH HERE'\n",
    "directory_path = 'raid/GrowliFlowerD/Field2/'  \n",
    "image_features = single_plant_time_series(directory_path)"
   ]
  },
  {
   "cell_type": "code",
   "execution_count": null,
   "id": "76b9a2ed",
   "metadata": {},
   "outputs": [],
   "source": [
    "image_features.head(15)"
   ]
  },
  {
   "cell_type": "markdown",
   "id": "95b45db3",
   "metadata": {},
   "source": [
    "## Visulisierung der extrahierten Kennzahlen in Zeitreihen"
   ]
  },
  {
   "cell_type": "markdown",
   "id": "cc76f932",
   "metadata": {},
   "source": [
    "### Planzengröße"
   ]
  },
  {
   "cell_type": "code",
   "execution_count": null,
   "id": "24631706",
   "metadata": {},
   "outputs": [],
   "source": [
    "Bachelorarbeit.plant_size_plot(image_features)"
   ]
  },
  {
   "cell_type": "markdown",
   "id": "e6b7845d",
   "metadata": {},
   "source": [
    "### Planzenhöhe "
   ]
  },
  {
   "cell_type": "code",
   "execution_count": null,
   "id": "4ff798a4",
   "metadata": {},
   "outputs": [],
   "source": [
    "Bachelorarbeit.plant_height_plot(image_features)"
   ]
  },
  {
   "cell_type": "markdown",
   "id": "82b395bd",
   "metadata": {},
   "source": [
    "### Anzahl der Blättern"
   ]
  },
  {
   "cell_type": "code",
   "execution_count": null,
   "id": "60ab43b3",
   "metadata": {},
   "outputs": [],
   "source": [
    "Bachelorarbeit.leaves_count_plot(image_features)"
   ]
  },
  {
   "cell_type": "markdown",
   "id": "f08f1b37",
   "metadata": {},
   "source": [
    "### Dichtrate"
   ]
  },
  {
   "cell_type": "code",
   "execution_count": null,
   "id": "ad137f99",
   "metadata": {},
   "outputs": [],
   "source": [
    "Bachelorarbeit.density_rate_plot(image_features)"
   ]
  },
  {
   "cell_type": "markdown",
   "id": "3c09d5b5",
   "metadata": {},
   "source": [
    "### Größe des Blumenkohlkopfs"
   ]
  },
  {
   "cell_type": "code",
   "execution_count": null,
   "id": "9578d690",
   "metadata": {},
   "outputs": [],
   "source": [
    "Bachelorarbeit.head_size_plot(image_features)"
   ]
  },
  {
   "cell_type": "markdown",
   "id": "e84cf2b4",
   "metadata": {},
   "source": [
    "### Visulisierung multipler Kennzahlen"
   ]
  },
  {
   "cell_type": "markdown",
   "id": "98fd5f8d",
   "metadata": {},
   "source": [
    "##### Die zu visualisierenden Kennzahlen können verändert werden, aber sie müssen Drei bleiben."
   ]
  },
  {
   "cell_type": "code",
   "execution_count": null,
   "id": "b993b03e",
   "metadata": {},
   "outputs": [],
   "source": [
    "# Liste der Kennzahlen: 'plant_size', 'plant_height', 'leaves_count', 'density_rate', 'head_size'\n",
    "Bachelorarbeit.plot_features(image_features, 'plant_size' , 'leaves_count', 'density_rate')"
   ]
  },
  {
   "cell_type": "markdown",
   "id": "e6913d99",
   "metadata": {},
   "source": [
    "##  Kennzahlen Extraktion aus mehreren Pflanzen"
   ]
  },
  {
   "cell_type": "markdown",
   "id": "113475d3",
   "metadata": {},
   "source": [
    "##### Definiert eine Funktion zur Extraktion von Merkmalen mehrerer Pflanzen aus einem Verzeichnis."
   ]
  },
  {
   "cell_type": "code",
   "execution_count": null,
   "id": "735d26ab",
   "metadata": {},
   "outputs": [],
   "source": [
    "def multiple_plants_features_extraction(directory_path):\n",
    "    # Initialisiert eine Liste zur Speicherung von DataFrames.\n",
    "    df_list = []\n",
    "\n",
    "    # Durchläuft alle Dateien im Verzeichnis.\n",
    "    for filename in os.listdir(directory_path):\n",
    "        if filename.endswith('.jpg') or filename.endswith('.png'):\n",
    "            # Ermittelt den vollständigen Pfad des Bildes.\n",
    "            image_path = os.path.join(directory_path, filename)\n",
    "\n",
    "            # Extrahiert die Kennzahlen für eine einzelne Pflanze.\n",
    "            single_plant_features_dataframe = Bachelorarbeit.single_plant_features_extraction(image_path, hasHead = check_head(image_path))\n",
    "\n",
    "            # Fügt das DataFrame der einzelnen Pflanzenkennzahlen zur Liste hinzu.\n",
    "            df_list.append(single_plant_features_dataframe)\n",
    "\n",
    "    # Fügt alle DataFrames in der Liste zu einem einzigen DataFrame zusammen.\n",
    "    features_dataframe = pd.concat(df_list, ignore_index=True)\n",
    "\n",
    "    # Gibt das zusammengefügte DataFrame zurück.\n",
    "    return features_dataframe"
   ]
  },
  {
   "cell_type": "code",
   "execution_count": null,
   "id": "12cd8320",
   "metadata": {},
   "outputs": [],
   "source": [
    "# Die Bilder müssen in einem einzigen Ordner angeordnet sein\n",
    "#directory_path = 'YOUR DIRECTORY PATH HERE'\n",
    "directory_path = 'raid/multi_extrac'\n",
    "multiple_plants_features = multiple_plants_features_extraction(directory_path)"
   ]
  },
  {
   "cell_type": "code",
   "execution_count": null,
   "id": "882bdaf7",
   "metadata": {},
   "outputs": [],
   "source": [
    "multiple_plants_features.head(15)"
   ]
  },
  {
   "cell_type": "markdown",
   "id": "4ce02049",
   "metadata": {},
   "source": [
    "### Visualisierung der extrahierten Kennzahlen von mehreren Pflanzen"
   ]
  },
  {
   "cell_type": "code",
   "execution_count": null,
   "id": "bf7b9b8a",
   "metadata": {},
   "outputs": [],
   "source": [
    "Bachelorarbeit.multiple_plants_plot(multiple_plants_features, 'head_size')"
   ]
  },
  {
   "cell_type": "markdown",
   "id": "b099ab84",
   "metadata": {},
   "source": [
    "##  Kennzahlen Extraktion aus mehreren Pflanzen in Zeitreihen"
   ]
  },
  {
   "cell_type": "markdown",
   "id": "767a5005",
   "metadata": {},
   "source": [
    "#####  Die Funktion multiple_plants_time_series ist darauf ausgelegt, eine Zeitreihe von Merkmalen für mehrere Pflanzen zu erstellen, basierend auf Bildern, die in einem gegebenen Basisverzeichnis geordnet sind."
   ]
  },
  {
   "cell_type": "code",
   "execution_count": null,
   "id": "2b63ce9a",
   "metadata": {},
   "outputs": [],
   "source": [
    "def multiple_plants_time_series(base_directory_path):\n",
    "    # Initialisiert ein Dictionary, um für jede Pflanze ein DataFrame zu speichern.\n",
    "    plants_dataframes = {}\n",
    "\n",
    "    # Ermittelt alle Verzeichnisse, die Daten enthalten.\n",
    "    date_directories = sorted([d for d in os.listdir(base_directory_path) if os.path.isdir(os.path.join(base_directory_path, d))])\n",
    "    \n",
    "    for date_dir in date_directories:\n",
    "        # Überspringt unerwünschte Datumsangaben.\n",
    "        # Bilder im Datum 2020_10_29 und 2021_08_19 sind unvollständig \n",
    "        skip_dates = ['2020_10_29', '2021_08_19', '_post', '_pre']    \n",
    "        if date_dir in skip_dates:\n",
    "            continue\n",
    "        \n",
    "        # Pfad zum aktuellen Datumsverzeichnis.\n",
    "        current_date_path = os.path.join(base_directory_path, date_dir)\n",
    "        \n",
    "        # Listet Bilddateien im aktuellen Datumsverzeichnis auf.\n",
    "        image_files = [f for f in os.listdir(current_date_path) if f.endswith('.jpg')]\n",
    "        \n",
    "        for image_file in image_files:\n",
    "            try:\n",
    "                # Erstellt den vollständigen Pfad zur Bilddatei.\n",
    "                image_path = os.path.join(current_date_path, image_file)\n",
    "                \n",
    "                # Extrahiert den Pflanzennamen (Dateiname ohne Endung).\n",
    "                plant_name = os.path.splitext(image_file)[0]\n",
    "                plant_name_parts = plant_name.split('_')[-2:]\n",
    "                plant_name = '_'.join(plant_name_parts)\n",
    "                \n",
    "                # Initialisiert eine Liste für diese Pflanze, falls sie noch nicht existiert.\n",
    "                if plant_name not in plants_dataframes:\n",
    "                    plants_dataframes[plant_name] = []\n",
    "\n",
    "                # Extrahiert erneut den Pflanzennamen und initialisiert ein DataFrame, falls dies noch nicht geschehen ist.\n",
    "                plant_name = os.path.splitext(image_file)[0]\n",
    "                plant_name = plant_name.split('_')[-2:]\n",
    "                plant_name = '_'.join(plant_name)\n",
    "                if plant_name not in plants_dataframes:\n",
    "                    plants_dataframes[plant_name] = pd.DataFrame(columns=[\n",
    "                        'date', 'isHarvested', 'plant_size', 'plant_height', \n",
    "                        'hasHead', 'leaves_count', 'density_rate', 'head_size'\n",
    "                    ])\n",
    "\n",
    "                isHarvested = False    \n",
    "                hasHead = check_head(image_path)\n",
    "                # Bestimmt die Kopfgröße, wenn vorhanden.\n",
    "                if hasHead:\n",
    "                    head_size = Bachelorarbeit.head_size_function(image_path)\n",
    "                else:\n",
    "                    head_size = 0\n",
    "                    isHarvested = Bachelorarbeit.harvest_classif_model(image_path)\n",
    "                # Überprüft, ob die Pflanze geerntet wurde.\n",
    "                if isHarvested:\n",
    "                    print('Die Pflanze wurde geerntet, keine Kennzahlen zu extrahieren')\n",
    "                    isHarvested = 1\n",
    "                    predicted_size = 0\n",
    "                    leaves_number = 0\n",
    "                    density = 0\n",
    "                    predicted_height = 0\n",
    "                else:\n",
    "                    isHarvested = 0\n",
    "                    \n",
    "                    Bachelorarbeit.get_bounding_boxes_plot(image_path)\n",
    "                    # Vorhersage der Pflanzengröße.\n",
    "                    predicted_size =  Bachelorarbeit.predict_size(image_path)\n",
    "                    # Zählung der Blätter und Dichte.\n",
    "                    output_image, num_boxes_leaves, leaves_number, density  =  Bachelorarbeit.leaves_count(image_path)\n",
    "                    # Vorhersage der Pflanzenhöhe.\n",
    "                    predicted_height =  Bachelorarbeit.predict_height_value(image_path)\n",
    "                \n",
    "                # Erstellt ein Dictionary mit den extrahierten Kennzahlen.\n",
    "\n",
    "                features = {\n",
    "                'date': date_dir,\n",
    "                'isHarvested': isHarvested,\n",
    "                'plant_size': predicted_size,\n",
    "                'plant_height': predicted_height,\n",
    "                'hasHead': int(hasHead),\n",
    "                'leaves_count': leaves_number,\n",
    "                'density_rate': density,\n",
    "                'head_size': head_size,\n",
    "                }\n",
    "                \n",
    "                # Fügt die Kennzahlen der entsprechenden Liste hinzu.\n",
    "                plants_dataframes[plant_name].append(features)\n",
    "                \n",
    "            except Exception as e:\n",
    "                print(f\"Beim Verarbeiten von {image_file} ist ein Fehler aufgetreten: {e}\")\n",
    "\n",
    "    # Konvertiert Listen von Kennzahlen in DataFrames.\n",
    "    for plant_name, features_list in plants_dataframes.items():\n",
    "        plants_dataframes[plant_name] = pd.DataFrame(features_list)\n",
    "\n",
    "    # Transformiert die DataFrames für jede Pflanze.\n",
    "    for plant_name, df in plants_dataframes.items():\n",
    "        plants_dataframes[plant_name] =  Bachelorarbeit.transform_dataframe(df)\n",
    "\n",
    "    return plants_dataframes"
   ]
  },
  {
   "cell_type": "code",
   "execution_count": null,
   "id": "d84835c8",
   "metadata": {},
   "outputs": [],
   "source": [
    "# Für die Ausführung der Funktion ist die Einhaltung einer spezifischen Ordnerstruktur essentiell. \n",
    "# Ein Basisverzeichnis soll diverse Unterverzeichnisse für Bildmaterial umfassen, wobei jedes dieser Unterverzeichnisse nach dem Datum benannt wird, welches es repräsentiert. \n",
    "# Innerhalb jedes Datumsverzeichnisses müssen sich Bilder befinden, die am entsprechenden Datum aufgenommen wurden. \n",
    "# Zudem ist es erforderlich, dass alle Datumsverzeichnisse eine identische Anzahl von Bildern beinhalten.\n",
    "\n",
    "#base_directory_path = 'YOUR DIRECTORY PATH HERE'\n",
    "base_directory_path = 'raid/series_extraction_2'\n",
    "all_plants_dataframes = multiple_plants_time_series(base_directory_path)"
   ]
  },
  {
   "cell_type": "markdown",
   "id": "daab836d",
   "metadata": {},
   "source": [
    "### Visualisierung der extrahierten Kennzahlen von mehreren Pflanzen in Zeitreihen"
   ]
  },
  {
   "cell_type": "markdown",
   "id": "4de4c109",
   "metadata": {},
   "source": [
    "#####  Diese Funktion plottet die extrahierten Merkmale verschiedener Pflanzenbilder, indem das Merkmal angegeben wird, das visualisiert werden soll "
   ]
  },
  {
   "cell_type": "code",
   "execution_count": null,
   "id": "170bb7b3",
   "metadata": {},
   "outputs": [],
   "source": [
    "# Liste der Kennzahlen: 'plant_size', 'plant_height', 'leaves_count', 'density_rate', 'head_size'\n",
    "Bachelorarbeit.plot_time_series_features(all_plants_dataframes, 'leaves_count')"
   ]
  },
  {
   "cell_type": "markdown",
   "id": "4489cd8f",
   "metadata": {},
   "source": [
    "<h1><center> <font color=\"red\">Ende</center></h1>"
   ]
  }
 ],
 "metadata": {
  "kernelspec": {
   "display_name": "imageprocessing",
   "language": "python",
   "name": "imageprocessing"
  }
 },
 "nbformat": 4,
 "nbformat_minor": 5
}
